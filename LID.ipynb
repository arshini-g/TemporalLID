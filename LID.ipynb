{
 "cells": [
  {
   "cell_type": "code",
   "execution_count": 4,
   "id": "e4e0b6a5",
   "metadata": {},
   "outputs": [],
   "source": [
    "import os\n",
    "import librosa\n",
    "from sklearn.mixture import GaussianMixture\n",
    "import numpy as np"
   ]
  },
  {
   "cell_type": "code",
   "execution_count": null,
   "id": "76c41161",
   "metadata": {},
   "outputs": [],
   "source": [
    "sr = 8000"
   ]
  },
  {
   "cell_type": "markdown",
   "id": "0398d30d",
   "metadata": {},
   "source": [
    "# Generating GMM"
   ]
  },
  {
   "cell_type": "code",
   "execution_count": 104,
   "id": "aa0f419d",
   "metadata": {},
   "outputs": [],
   "source": [
    "def make_GMM(path):\n",
    "\n",
    "    list_files = []\n",
    "    mfcc_con=np.empty([0, 13])\n",
    "    hop_length = int(0.005*sr)\n",
    "    win_length=int(0.025*sr)\n",
    "    \n",
    "    for file in os.listdir(path):\n",
    "        \n",
    "        if file.endswith('.wav'):   \n",
    "            file = os.path.join(path, file)\n",
    "        \n",
    "            new,srr = librosa.load(file)\n",
    "            new = librosa.resample(new, orig_sr=srr, target_sr=sr)\n",
    "            list_files.append(new)\n",
    "        \n",
    "            mfcc = librosa.feature.mfcc(y=new, sr=sr, hop_length=hop_length, n_mfcc=13,win_length=win_length).T\n",
    "            mfcc_con = np.concatenate((mfcc_con,mfcc),axis=0)\n",
    "\n",
    "    gmm = GaussianMixture(n_components=64, covariance_type='diag' , max_iter = 200 ).fit(mfcc_con)\n",
    "    \n",
    "    return gmm"
   ]
  },
  {
   "cell_type": "markdown",
   "id": "21b8a9b6",
   "metadata": {},
   "source": [
    "# Training"
   ]
  },
  {
   "cell_type": "code",
   "execution_count": 105,
   "id": "821fa39a",
   "metadata": {},
   "outputs": [
    {
     "name": "stderr",
     "output_type": "stream",
     "text": [
      "C:\\Users\\shrut\\AppData\\Local\\Programs\\Python\\Python310\\lib\\site-packages\\librosa\\util\\decorators.py:88: UserWarning: n_fft=2048 is too small for input signal of length=67\n",
      "  return f(*args, **kwargs)\n"
     ]
    }
   ],
   "source": [
    "gmm_assamese = make_GMM('../train/assamese')\n",
    "gmm_bengali = make_GMM('../train/bengali')\n",
    "gmm_gujarathi = make_GMM('../train/gujarathi')\n",
    "gmm_manipuri = make_GMM('../train/manipuri')\n",
    "gmm_marathi = make_GMM('../train/marathi')\n",
    "gmm_odia = make_GMM('../train/odia')\n",
    "gmm_telugu = make_GMM('../train/telugu')"
   ]
  },
  {
   "cell_type": "markdown",
   "id": "8a706ed7",
   "metadata": {},
   "source": [
    "# Testing"
   ]
  },
  {
   "cell_type": "code",
   "execution_count": 106,
   "id": "808cde67",
   "metadata": {},
   "outputs": [],
   "source": [
    "def test():\n",
    "    \n",
    "    correct = 0\n",
    "    langarr = ['Assa','Beng','Guja','Mani','Mara','Odia','Telu']\n",
    "    hop_length = int(0.005*sr)\n",
    "    win_length=int(0.025*sr)\n",
    "    \n",
    "    for file in os.listdir('../test'):\n",
    "        \n",
    "        if file.endswith('.wav'):  \n",
    "            for i in range(7):\n",
    "                if(file[0:4] == langarr[i]):\n",
    "                    lang = i\n",
    "    \n",
    "            file = os.path.join('../test', file)\n",
    "        \n",
    "            new,srr = librosa.load(file)\n",
    "            new = librosa.resample(new, orig_sr=srr, target_sr=sr)\n",
    "        \n",
    "            mfcc = librosa.feature.mfcc(y=new, sr=sr, hop_length=hop_length, n_mfcc=13,win_length=win_length).T\n",
    "            \n",
    "            s1 =gmm_assamese.score(mfcc)\n",
    "            s2 =gmm_bengali.score(mfcc)\n",
    "            s3 =gmm_gujarathi.score(mfcc)\n",
    "            s4 =gmm_manipuri.score(mfcc)\n",
    "            s5 =gmm_marathi.score(mfcc)\n",
    "            s6 =gmm_odia.score(mfcc)\n",
    "            s7 =gmm_telugu.score(mfcc)\n",
    "            \n",
    "            scores = np.array((s1,s2,s3,s4,s5,s6))\n",
    "\n",
    "            res = np.argmax(scores)\n",
    "            \n",
    "            if(res == lang):\n",
    "                correct += 1\n",
    "            else:\n",
    "                print(res,lang)\n",
    "                \n",
    "    return correct"
   ]
  },
  {
   "cell_type": "code",
   "execution_count": 107,
   "id": "8c4f96d5",
   "metadata": {},
   "outputs": [
    {
     "name": "stdout",
     "output_type": "stream",
     "text": [
      "0 6\n",
      "2 6\n",
      "1 6\n",
      "5 6\n",
      "2 6\n",
      "1 6\n",
      "4 6\n",
      "0 6\n",
      "4 6\n",
      "2 6\n",
      "4 6\n",
      "0 6\n",
      "1 6\n",
      "2 6\n",
      "0 6\n",
      "5 6\n",
      "0 6\n",
      "5 6\n",
      "5 6\n",
      "0 6\n",
      "120\n"
     ]
    }
   ],
   "source": [
    "correct = test()\n",
    "print(correct)"
   ]
  }
 ],
 "metadata": {
  "kernelspec": {
   "display_name": "Python 3 (ipykernel)",
   "language": "python",
   "name": "python3"
  },
  "language_info": {
   "codemirror_mode": {
    "name": "ipython",
    "version": 3
   },
   "file_extension": ".py",
   "mimetype": "text/x-python",
   "name": "python",
   "nbconvert_exporter": "python",
   "pygments_lexer": "ipython3",
   "version": "3.10.6"
  }
 },
 "nbformat": 4,
 "nbformat_minor": 5
}
